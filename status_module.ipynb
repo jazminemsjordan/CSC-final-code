{
 "cells": [
  {
   "cell_type": "code",
   "execution_count": 1,
   "id": "9681c49f",
   "metadata": {
    "lines_to_next_cell": 1
   },
   "outputs": [],
   "source": [
    "def initialize():\n",
    "    global location\n",
    "    location = \"vestibule\"\n",
    "    global locked\n",
    "    locked = {\"supply_closet\": True, \"classroom_2\": True, \"classroom_3\": True, \"dean_office\": True, \"exit\": True, \"drawer\": True}\n",
    "    global item_pairs\n",
    "    item_pairs = {\"old key\": \"old door\", \"keycard\": \"keycard door\", \"rusty key\": \"rusty door\", \"shiny key\": \"shiny door\", \"gold key\": \"gold door\", \"drawer key\": \"librarian's desk\"}\n",
    "    global inventory\n",
    "    inventory = []\n",
    "    global turns\n",
    "    turns = 0\n",
    "    global win \n",
    "    win = False"
   ]
  },
  {
   "cell_type": "code",
   "execution_count": 2,
   "id": "4d9ebccd",
   "metadata": {},
   "outputs": [],
   "source": [
    "def instructions():\n",
    "    print(\"To play: enter a simple command: 'go' to move, look(l) to see the room you're in, examine(x) to investigate an object\\n, help(?) to view commands, or inventory(i) to view inventory.\\n Examples include 'go north' or 'look' or 'examine bookcase'.\")"
   ]
  },
  {
   "cell_type": "code",
   "execution_count": 3,
   "id": "a8119f14",
   "metadata": {},
   "outputs": [],
   "source": [
    "def end_menu():\n",
    "    \"\"\" Shows end data and stats, variable counter for turns taken added every time a command is successful.\"\"\"\n",
    "    print(\"---------------------\")\n",
    "    print(\"Congratulations! You win!\")\n",
    "    print(f\"Turns taken = {turns} turns.\")\n",
    "    exit()"
   ]
  },
  {
   "cell_type": "code",
   "execution_count": 4,
   "id": "1e99364c",
   "metadata": {
    "lines_to_next_cell": 1
   },
   "outputs": [],
   "source": [
    "def start_menu():\n",
    "    \"\"\" Call instructions function and ask whether to begin a new game or reset.\"\"\"\n",
    "    print(\"Christmas at Ford Hall\")\n",
    "    print(\"-----------------------\")\n",
    "    print(\"Oh no! The doors locked for Christmas break while you were still inside the hall. Can you escape and make it home for the holidays?\")\n",
    "    initialize()\n",
    "    start = input(\"Start game: Y/N?\")\n",
    "    if start == \"Y\" or start == \"y\":\n",
    "        instructions()\n",
    "    else:\n",
    "        exit()"
   ]
  },
  {
   "cell_type": "code",
   "execution_count": 5,
   "id": "e112974a",
   "metadata": {},
   "outputs": [],
   "source": [
    "vestibule_flavor = \"You are in the vestibule. The entrance is framed by sleek glass walls and natural stone flooring, with clean lines that hint at the building's contemporary design.\\nObjects of interest: touchscreen directory, coat hooks, charging station, keycard door.\\nTo the North is the Atrium. To the South is the exit.\"\n",
    "vestibule_objects = [\"keycard door\", \"touchscreen directory\", \"coat hooks\", \"charging station\"]"
   ]
  },
  {
   "cell_type": "code",
   "execution_count": 6,
   "id": "7917675d",
   "metadata": {},
   "outputs": [],
   "source": [
    "keycard_door_flavor = \"The exit to the building, barred by a large mechanical door.\""
   ]
  },
  {
   "cell_type": "code",
   "execution_count": 7,
   "id": "308c831e",
   "metadata": {},
   "outputs": [],
   "source": [
    "touchscreen_directory_flavor = \"The touchscreen directory glows faintly, displaying a map of the building. A sticky note tucked into the frame reads, 'Merry Christmas?!'\"\n",
    "coat_hooks_flavor = \"A neat row of coat hooks lines the wall. Most of them are empty, but one hook holds a scarf with 'Lost and Found' embroidered on it.\"\n",
    "charging_station_flavor = \"The blinking red light appears to be a malfunction, and nothing else catches your attention.\""
   ]
  },
  {
   "cell_type": "code",
   "execution_count": 8,
   "id": "a72e35c5",
   "metadata": {},
   "outputs": [],
   "source": [
    "atrium_flavor = \"You are in the atrium. The expansive central space features soaring ceilings, an open staircase, and wide windows that flood the room with light. Collaborative seating areas dot the floor, inviting group discussions.\\nObjects of interest: indoor plants, central staircase, old door.\\nTo the North is Classroom 1. To the East is Classroom 2. To the West is the Stairwell. To the South is the Vestibule.\"\n",
    "atrium_objects = [\"old door\", \"indoor plants\", \"central staircase\"]"
   ]
  },
  {
   "cell_type": "code",
   "execution_count": 9,
   "id": "8eec92be",
   "metadata": {},
   "outputs": [],
   "source": [
    "old_door_flavor = \"The faded sign besides the old door reads Classroom 2.\""
   ]
  },
  {
   "cell_type": "code",
   "execution_count": 10,
   "id": "5f9f9834",
   "metadata": {},
   "outputs": [],
   "source": [
    "indoor_plants_flavor = \"A collection of potted indoor plants adds a touch of green. Beneath one pot is a faint scratch, but there's nothing of importance.\"\n",
    "central_staircase_flavor = \"The central staircase spirals gracefully to the upper levels, its clean lines uninterrupted by anything unusual.\""
   ]
  },
  {
   "cell_type": "code",
   "execution_count": 11,
   "id": "c7589d30",
   "metadata": {},
   "outputs": [],
   "source": [
    "classroom_1_flavor = \"You are in Classroom 1. A mix of modular tables and chairs fills the room, designed for interactive learning. A smartboard stretches across one wall, flanked by writable whiteboard surfaces.\\nObjects of interest: smartboard, lab stools, supply drawers, rusty door.\\nTo the South is the Atrium. To the East is the supply closet.\"\n",
    "classroom_1_objects = [\"smartboard\", \"lab stools\", \"supply drawers\", \"rusty door\"]"
   ]
  },
  {
   "cell_type": "code",
   "execution_count": 12,
   "id": "f0030a59",
   "metadata": {},
   "outputs": [],
   "source": [
    "rusty_door_flavor = \"The rusty door to the supply closet is old and weathered.\""
   ]
  },
  {
   "cell_type": "code",
   "execution_count": 13,
   "id": "bdbbea02",
   "metadata": {},
   "outputs": [],
   "source": [
    "smartboard_flavor = \"The smartboard hums softly with a faint glow, displaying 'No Input Detected.' A USB port is visible, but you find nothing significant.\"\n",
    "lab_stools_flavor = \"The lab stools are neatly arranged. Underneath one, theres an old piece of gum—gross, but nothing useful\"\n",
    "supply_drawers_flavor = \"A row of drawers lines the room. They are all empty, except for an assortment of old lab tools and a flash of metal. You found: rusty key.\""
   ]
  },
  {
   "cell_type": "code",
   "execution_count": 14,
   "id": "861fc9e6",
   "metadata": {},
   "outputs": [],
   "source": [
    "classroom_2_flavor = \"You are in Classroom 2. Rows of lab benches are equipped with sinks and microscopes, with overhead fume hoods lining the perimeter. The room is primed for hands-on experimentation.\\nObjects of interest: lab benches, safety cabinet, wall-mounted monitor.\\nTo the West is the Atrium.\"\n",
    "classroom_2_objects = [\"lab benches\", \"safety cabinet\", \"wall-mounted monitor\"]"
   ]
  },
  {
   "cell_type": "code",
   "execution_count": 15,
   "id": "bbf10d60",
   "metadata": {},
   "outputs": [],
   "source": [
    "lab_benches_flavor = \"The lab benches are cluttered with abandoned experiments—beakers, pipettes, and half-written notes. There's a tiny key by one of the beakers. You got: drawer key.\"\n",
    "safety_cabinet_flavor = \"The safety cabinet is locked and contains standard safety gear—nothing useful.\"\n",
    "wall_mounted_monitor_flavor = \"The wall-mounted monitor is dark, with a fingerprint smudge on the screen. It appears non-functional.\""
   ]
  },
  {
   "cell_type": "code",
   "execution_count": 16,
   "id": "a909c0c9",
   "metadata": {},
   "outputs": [],
   "source": [
    "classroom_3_flavor = \"You are in Classroom 3. The room features workstations with power outlets, 3D printers, and toolkits neatly arranged along the walls.\\nObjects of interest: 3D printer, power outlets, robotics kits.\\nTo the South is the Library.\"\n",
    "classroom_3_objects = [\"3D printer\", \"power outlets\", \"robotics kits\"]"
   ]
  },
  {
   "cell_type": "code",
   "execution_count": 17,
   "id": "9318d1ca",
   "metadata": {},
   "outputs": [],
   "source": [
    "printer_flavor = \"The 3D printer hums quietly. On the platform sits a newly printed object—a gold key is put next to the unfinished project. You found: gold key.\"\n",
    "power_outlets_flavor = \"Rows of power outlets blink green. One outlet blinks red but reveals nothing unusual.\"\n",
    "robotics_kits_flavor = \"The robotics kits are neatly arranged in plastic bins. None of them hold anything important.\""
   ]
  },
  {
   "cell_type": "code",
   "execution_count": 18,
   "id": "e79adab2",
   "metadata": {},
   "outputs": [],
   "source": [
    "supply_closet_flavor = \"You are in the Supply Closet. Compact and efficient, the room houses rows of labeled bins holding everything from lab coats to specialized tools.\\nObjects of interest: equipment shelves, PPE cabinet.\\nTo the west is Classroom 1.\"\n",
    "supply_closet_objects = [\"equipment shelves\", \"PPE cabinet\"]"
   ]
  },
  {
   "cell_type": "code",
   "execution_count": 19,
   "id": "7528912d",
   "metadata": {},
   "outputs": [],
   "source": [
    "equipment_shelves_flavor = \"The equipment shelves are packed with supplies—spools of wire, boxes of screws, and a small toolkit that seems unusually dusty. Beside it is a key. You found: old key.\"\n",
    "ppe_cabinet_flavor = \"The PPE cabinet gleams under the light, filled with goggles and gloves but no hidden items.\""
   ]
  },
  {
   "cell_type": "code",
   "execution_count": 20,
   "id": "0e11239e",
   "metadata": {},
   "outputs": [],
   "source": [
    "library_flavor = \"You are in the library. Floor to ceiling bookshelves line the walls, with a few cozy looking chairs and couches in the center.\\nObjects of interest: librarian's desk, study table, mahogany bookcase, shiny door, gold door.\\nTo the north is Classroom 3. To the east is the Dean's Office. To the South is the balcony. To the West is the stairwell down to the atrium.\"\n",
    "library_objects = [\"librarian's desk\", \"study table\", \"mahogany bookcase\", \"shiny door\", \"gold door\"]"
   ]
  },
  {
   "cell_type": "code",
   "execution_count": 21,
   "id": "e7f01e14",
   "metadata": {},
   "outputs": [],
   "source": [
    "mahogany_bookcase_flavor = \"There's a variety of colorful books on all different topics, but none seem useful right now.\""
   ]
  },
  {
   "cell_type": "code",
   "execution_count": 22,
   "id": "4ec1807f",
   "metadata": {},
   "outputs": [],
   "source": [
    "librarian_desk_flavor = \"The desk is well-used, covered in books and scribbles on the wood. You notice a small lock on one of the drawers.\""
   ]
  },
  {
   "cell_type": "code",
   "execution_count": 23,
   "id": "b2bfae68",
   "metadata": {},
   "outputs": [],
   "source": [
    "study_table_flavor = \"The study table is covered in a thin layer of dust. Apparently nobody has studied here for a while. You see nothing important.\""
   ]
  },
  {
   "cell_type": "code",
   "execution_count": 24,
   "id": "eb1939ed",
   "metadata": {},
   "outputs": [],
   "source": [
    "shiny_door_flavor = \"The shiny door to the newest classroom, with a shiny lock.\""
   ]
  },
  {
   "cell_type": "code",
   "execution_count": 25,
   "id": "3e13bd62",
   "metadata": {},
   "outputs": [],
   "source": [
    "gold_door_flavor = \"The ornate door to the Dean's Office has a golden lock.\""
   ]
  },
  {
   "cell_type": "code",
   "execution_count": 26,
   "id": "d9047573",
   "metadata": {},
   "outputs": [],
   "source": [
    "dean_office_flavor = \"You are in the Dean's Office. The room balances modernity and warmth, with contemporary furniture and framed photographs of recent projects and alumni achievements.\\nObjects of interest: ergonomic desk, bookshelf with scientific journals, Smith College crest plaque.\\nTo the West is the Library.\"\n",
    "dean_office_objects = [\"ergonomic desk\", \"bookshelf with scientific journals\", \"Smith College crest plaque\"]"
   ]
  },
  {
   "cell_type": "code",
   "execution_count": 27,
   "id": "93e0add3",
   "metadata": {},
   "outputs": [],
   "source": [
    "ergonomic_desk_flavor = \"The ergonomic desk is organized and spotless. There's nothing hidden here.\"\n",
    "bookshelf_flavor = \"The bookshelf contains scientific journals. One journal is wedged at an odd angle but holds no items.\"\n",
    "crest_plaque_flavor = \"The Smith College crest plaque hangs above the desk, pristine but ordinary. Inside the frame lies an official looking plastic card, also bearing the Smith logo. You got: keycard.\""
   ]
  },
  {
   "cell_type": "code",
   "execution_count": 28,
   "id": "f2765d67",
   "metadata": {},
   "outputs": [],
   "source": [
    "balcony_flavor = \"You are on the Balcony. Glass railings provide an uninterrupted view of the campus greenery below, with a few seating options tucked in for a quiet moment between classes.\\nObjects of interest: glass railing, potted plants.\\nTo the north is the Library.\"\n",
    "balcony_objects = [\"glass railing\", \"potted plants\"]"
   ]
  },
  {
   "cell_type": "code",
   "execution_count": 29,
   "id": "3263a4fd",
   "metadata": {},
   "outputs": [],
   "source": [
    "glass_railing_flavor = \"The glass railing offers a beautiful view but has no apparent hiding spots for anything significant.\"\n",
    "potted_plants_flavor = \"The potted plants are vibrant, but closer inspection reveals no hidden items.\""
   ]
  },
  {
   "cell_type": "code",
   "execution_count": 30,
   "id": "c60ef9c1",
   "metadata": {
    "lines_to_next_cell": 2
   },
   "outputs": [],
   "source": [
    "command_list = [\"go\", \"look\", \"examine\", \"use\", \"inventory\", \"help\"]"
   ]
  }
 ],
 "metadata": {
  "jupytext": {
   "cell_metadata_filter": "-all",
   "main_language": "python",
   "notebook_metadata_filter": "-all"
  },
  "kernelspec": {
   "display_name": "Python 3",
   "language": "python",
   "name": "python3"
  },
  "language_info": {
   "codemirror_mode": {
    "name": "ipython",
    "version": 3
   },
   "file_extension": ".py",
   "mimetype": "text/x-python",
   "name": "python",
   "nbconvert_exporter": "python",
   "pygments_lexer": "ipython3",
   "version": "3.11.9"
  }
 },
 "nbformat": 4,
 "nbformat_minor": 5
}
