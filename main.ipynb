{
 "cells": [
  {
   "cell_type": "code",
   "execution_count": null,
   "id": "539fe1dc",
   "metadata": {
    "lines_to_next_cell": 1
   },
   "outputs": [],
   "source": [
    "# beginning the game\n",
    "import command_module\n",
    "import status_module"
   ]
  },
  {
   "cell_type": "code",
   "execution_count": null,
   "id": "78393d10",
   "metadata": {},
   "outputs": [],
   "source": [
    "def main():\n",
    "    status_module.start_menu()\n",
    "    while True:\n",
    "        command_module.get_input()\n",
    "        status_module.turns += 1\n",
    "        if status_module.win == True:\n",
    "            status_module.end_menu()"
   ]
  },
  {
   "cell_type": "code",
   "execution_count": null,
   "id": "5b99f78e",
   "metadata": {
    "lines_to_next_cell": 2
   },
   "outputs": [],
   "source": []
  },
  {
   "cell_type": "code",
   "execution_count": null,
   "id": "26a51677",
   "metadata": {},
   "outputs": [],
   "source": [
    "if __name__ == \"__main__\":\n",
    "    main()"
   ]
  }
 ],
 "metadata": {
  "jupytext": {
   "cell_metadata_filter": "-all",
   "main_language": "python",
   "notebook_metadata_filter": "-all"
  }
 },
 "nbformat": 4,
 "nbformat_minor": 5
}
